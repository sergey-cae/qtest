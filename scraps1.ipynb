{
 "cells": [
  {
   "cell_type": "code",
   "execution_count": 47,
   "id": "388227ef-0819-4975-9f37-9b04ace0ccb9",
   "metadata": {
    "scrolled": true
   },
   "outputs": [
    {
     "name": "stdout",
     "output_type": "stream",
     "text": [
      "['2024-08-26', '2024-08-23', '2024-08-22', '2024-08-21', '2024-08-20', '2024-08-19', '2024-08-16', '2024-08-15', '2024-08-14', '2024-08-13', '2024-08-12', '2024-08-09', '2024-08-08', '2024-08-07', '2024-08-06', '2024-08-05', '2024-08-02', '2024-08-01', '2024-07-31', '2024-07-30', '2024-07-29', '2024-07-26', '2024-07-25', '2024-07-24', '2024-07-23', '2024-07-22', '2024-07-19', '2024-07-18', '2024-07-17', '2024-07-16', '2024-07-15', '2024-07-12', '2024-07-11', '2024-07-10', '2024-07-09', '2024-07-08', '2024-07-05', '2024-07-04', '2024-07-03', '2024-07-02', '2024-07-01', '2024-06-28', '2024-06-27', '2024-06-26', '2024-06-25', '2024-06-24', '2024-06-21', '2024-06-20', '2024-06-19', '2024-06-18', '2024-06-17', '2024-06-14', '2024-06-13', '2024-06-12', '2024-06-11', '2024-06-10', '2024-06-07', '2024-06-06', '2024-06-05', '2024-06-04', '2024-06-03']\n"
     ]
    }
   ],
   "source": [
    "from datetime import datetime, timedelta\n",
    "import calendar\n",
    "\n",
    "def is_weekday(date):\n",
    "    \"\"\"Check if the given date is a weekday (Mon-Fri).\"\"\"\n",
    "    return date.weekday() < 5  # Monday = 0, Sunday = 6\n",
    "\n",
    "def get_past_month_dates(months_ago):\n",
    "    \"\"\"Generate a list of all weekdays for the past 'months_ago' months until today.\"\"\"\n",
    "    today = datetime.today()\n",
    "    first_day_of_this_month = today.replace(day=1)\n",
    "\n",
    "    dates = []\n",
    "\n",
    "    for month_offset in range(months_ago):\n",
    "        # Calculate the first day of the month we're interested in\n",
    "        first_day_of_target_month = first_day_of_this_month - timedelta(days=month_offset * 30)\n",
    "        first_day_of_target_month = first_day_of_target_month.replace(day=1)\n",
    "        \n",
    "        # Get the last day of the target month\n",
    "        last_day_of_target_month = first_day_of_target_month.replace(day=calendar.monthrange(first_day_of_target_month.year, first_day_of_target_month.month)[1])\n",
    "\n",
    "        # Generate dates for the month\n",
    "        current_date = first_day_of_target_month\n",
    "        while current_date <= last_day_of_target_month and current_date <= today:\n",
    "            if is_weekday(current_date):\n",
    "                dates.append(current_date.strftime(\"%Y-%m-%d\"))\n",
    "            current_date += timedelta(days=1)\n",
    "    \n",
    "    return dates\n",
    "\n",
    "def generate_weekdays_for_past_months(n):\n",
    "    \"\"\"Generate a list of weekdays for the past 'n' months including the current month.\"\"\"\n",
    "    return get_past_month_dates(n)\n",
    "\n",
    "# Generate for the last 3 months:\n",
    "weekdays = generate_weekdays_for_past_months(3)\n",
    "weekdays.sort(reverse=True)\n",
    "print(weekdays)\n",
    "\n"
   ]
  },
  {
   "cell_type": "code",
   "execution_count": 38,
   "id": "2c240f50-753a-4999-8fb6-4a2a45834e63",
   "metadata": {},
   "outputs": [],
   "source": [
    "# weekdays[0].split('-')[1]"
   ]
  },
  {
   "cell_type": "code",
   "execution_count": 48,
   "id": "76da02f3-cda4-4313-8b50-4b332b4a240c",
   "metadata": {},
   "outputs": [
    {
     "data": {
      "text/plain": [
       "['2024-06-10',\n",
       " '2024-06-07',\n",
       " '2024-06-06',\n",
       " '2024-06-05',\n",
       " '2024-06-04',\n",
       " '2024-06-03']"
      ]
     },
     "execution_count": 48,
     "metadata": {},
     "output_type": "execute_result"
    }
   ],
   "source": [
    "weekdays = weekdays[55:]\n",
    "weekdays"
   ]
  },
  {
   "cell_type": "code",
   "execution_count": null,
   "id": "60121096-081a-483a-92b5-413825d36853",
   "metadata": {
    "scrolled": true
   },
   "outputs": [
    {
     "name": "stdout",
     "output_type": "stream",
     "text": [
      "06 07\n",
      "06 06\n"
     ]
    }
   ],
   "source": [
    "from selenium import webdriver\n",
    "from selenium.webdriver.common.by import By\n",
    "from selenium.webdriver.chrome.service import Service\n",
    "from selenium.webdriver.chrome.options import Options\n",
    "from selenium.webdriver.support.ui import WebDriverWait\n",
    "from selenium.webdriver.support import expected_conditions as EC\n",
    "from selenium.webdriver.common.action_chains import ActionChains\n",
    "import time\n",
    "\n",
    "from datetime import datetime\n",
    "\n",
    "def is_weekend(date_str):\n",
    "    date_obj = datetime.strptime(date_str, '%Y-%m-%d')\n",
    "    \n",
    "    if date_obj.weekday() >= 5:\n",
    "        return True\n",
    "    else:\n",
    "        return False\n",
    "\n",
    "\n",
    "url = \"https://www.shfe.com.cn/reports/tradedata/dailyandweeklydata?query_params=pm\"\n",
    "\n",
    "# Set up Chrome options\n",
    "chrome_options = Options()\n",
    "chrome_options.add_argument(\"--start-maximized\")\n",
    "\n",
    "driver = webdriver.Chrome(options=chrome_options)\n",
    "\n",
    "# Open the webpage containing the calendar and Excel button\n",
    "driver.get(url)\n",
    "\n",
    "wait = WebDriverWait(driver, 10)\n",
    "\n",
    "\n",
    "for i in range(2):\n",
    "    # first span in this class should be last month\n",
    "    first_span = wait.until(EC.element_to_be_clickable((By.XPATH, \"//div[@class='el-button-group']/button[1]/span\")))\n",
    "    \n",
    "    \n",
    "    # Click the \"Last Month\" button\n",
    "    first_span.click()\n",
    "    \n",
    "    time.sleep(10)\n",
    "    \n",
    "    month = day.split('-')[1]\n",
    "\n",
    "\n",
    "month = weekdays[0].split('-')[1]\n",
    "for day in weekdays:\n",
    "\n",
    "    if day == '2024-06-10':\n",
    "        continue\n",
    "\n",
    "    cur_month = day.split('-')[1]\n",
    "\n",
    "    if cur_month != month:\n",
    "        print(\"go to the previous month\")\n",
    "        \n",
    "        \n",
    "        # first span in this class should be last month\n",
    "        first_span = wait.until(EC.element_to_be_clickable((By.XPATH, \"//div[@class='el-button-group']/button[1]/span\")))\n",
    "        \n",
    "        \n",
    "        # Click the \"Last Month\" button\n",
    "        first_span.click()\n",
    "\n",
    "        time.sleep(10)\n",
    "\n",
    "        month = day.split('-')[1]\n",
    "\n",
    "    day_to_click = day.split('-')[2]\n",
    "\n",
    "    print(cur_month, day_to_click)\n",
    "    \n",
    "    # Wait until the calendar is visible and click on the day \n",
    "    wait = WebDriverWait(driver, 10)\n",
    "    calendar = wait.until(EC.visibility_of_element_located((By.CLASS_NAME, \"el-calendar\")))\n",
    "\n",
    "    day_button = calendar.find_element(By.XPATH, f\"//p[contains(text(), '{day_to_click}')]/..\")\n",
    "    day_button.click()\n",
    "    \n",
    "    # Wait for the page to update after selecting the date\n",
    "    time.sleep(10)\n",
    "\n",
    "    # Locate the EXCEL span element\n",
    "    excel_span = wait.until(EC.visibility_of_element_located((By.XPATH, \"//span[contains(text(), 'EXCEL')]\")))\n",
    "    \n",
    "    # Scroll the EXCEL button into view (if needed)\n",
    "    driver.execute_script(\"arguments[0].scrollIntoView(true);\", excel_span)\n",
    "    \n",
    "    # Use JavaScript to click on the EXCEL text\n",
    "    driver.execute_script(\"arguments[0].click();\", excel_span)\n",
    "    \n",
    "    # Optionally, wait to ensure the download starts\n",
    "    time.sleep(5)\n"
   ]
  },
  {
   "cell_type": "code",
   "execution_count": 50,
   "id": "1737e923-daa6-46af-ab9c-cd75cf2feff1",
   "metadata": {},
   "outputs": [
    {
     "data": {
      "text/plain": [
       "'2024-06-10'"
      ]
     },
     "execution_count": 50,
     "metadata": {},
     "output_type": "execute_result"
    }
   ],
   "source": [
    "day"
   ]
  },
  {
   "cell_type": "code",
   "execution_count": null,
   "id": "0d1df957-ccc5-4c08-8367-9918abe49a0e",
   "metadata": {},
   "outputs": [],
   "source": [
    "\n"
   ]
  }
 ],
 "metadata": {
  "kernelspec": {
   "display_name": "Python 3 (ipykernel)",
   "language": "python",
   "name": "python3"
  },
  "language_info": {
   "codemirror_mode": {
    "name": "ipython",
    "version": 3
   },
   "file_extension": ".py",
   "mimetype": "text/x-python",
   "name": "python",
   "nbconvert_exporter": "python",
   "pygments_lexer": "ipython3",
   "version": "3.11.8"
  }
 },
 "nbformat": 4,
 "nbformat_minor": 5
}
