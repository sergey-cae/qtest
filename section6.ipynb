{
 "cells": [
  {
   "cell_type": "code",
   "execution_count": 1,
   "id": "b32f404d-6658-496c-8bcc-ad0d481ed9f1",
   "metadata": {},
   "outputs": [
    {
     "name": "stderr",
     "output_type": "stream",
     "text": [
      "[*********************100%%**********************]  1 of 1 completed\n",
      "[*********************100%%**********************]  1 of 1 completed\n",
      "[*********************100%%**********************]  1 of 1 completed"
     ]
    },
    {
     "name": "stdout",
     "output_type": "stream",
     "text": [
      "CAGR of AMZN = 0.026615545610892077\n",
      "CAGR of GOOG = 0.4594472590429457\n",
      "CAGR of MSFT = 0.053473384803937485\n"
     ]
    },
    {
     "name": "stderr",
     "output_type": "stream",
     "text": [
      "\n"
     ]
    }
   ],
   "source": [
    "# =============================================================================\n",
    "# Measuring the return of a buy and hold strategy - CAGR\n",
    "# Author : Mayank Rasu (http://rasuquant.com/wp/)\n",
    "\n",
    "# Please report bug/issues in the Q&A section\n",
    "# =============================================================================\n",
    "\n",
    "# Import necesary libraries\n",
    "import yfinance as yf\n",
    "import pandas as pd\n",
    "\n",
    "# Download historical data for required stocks\n",
    "tickers = [\"AMZN\",\"GOOG\",\"MSFT\"]\n",
    "ohlcv_data = {}\n",
    "\n",
    "# looping over tickers and storing OHLCV dataframe in dictionary\n",
    "for ticker in tickers:\n",
    "    temp = yf.download(ticker,period='6mo',interval='1d')\n",
    "    temp.dropna(how=\"any\",inplace=True)\n",
    "    ohlcv_data[ticker] = temp\n",
    "\n",
    "def CAGR(DF):\n",
    "    \"function to calculate the Cumulative Annual Growth Rate of a trading strategy\"\n",
    "    df = DF.copy()\n",
    "    df[\"return\"] = DF[\"Adj Close\"].pct_change() # cur/prev-1\n",
    "    df[\"cum_return\"] = (1 + df[\"return\"]).cumprod()\n",
    "    n = len(df)/252 # 252 is number of trading days in year \n",
    "    CAGR = (df[\"cum_return\"].iloc[-1])**(1/n) - 1\n",
    "    return CAGR\n",
    "\n",
    "for ticker in ohlcv_data:\n",
    "    print(\"CAGR of {} = {}\".format(ticker,CAGR(ohlcv_data[ticker])))"
   ]
  },
  {
   "cell_type": "code",
   "execution_count": 2,
   "id": "a52bdfe5-bea0-4756-a8fd-d26a879b2c0a",
   "metadata": {},
   "outputs": [
    {
     "name": "stderr",
     "output_type": "stream",
     "text": [
      "[*********************100%%**********************]  1 of 1 completed\n",
      "[*********************100%%**********************]  1 of 1 completed\n",
      "[*********************100%%**********************]  1 of 1 completed"
     ]
    },
    {
     "name": "stdout",
     "output_type": "stream",
     "text": [
      "vol for AMZN = 0.2829602962014708\n",
      "vol for GOOG = 0.27606164567509783\n",
      "vol for MSFT = 0.19872383593349469\n"
     ]
    },
    {
     "name": "stderr",
     "output_type": "stream",
     "text": [
      "\n"
     ]
    }
   ],
   "source": [
    "# =============================================================================\n",
    "# Measuring the volatility of a buy and hold strategy\n",
    "# Author : Mayank Rasu (http://rasuquant.com/wp/)\n",
    "\n",
    "# Please report bug/issues in the Q&A section\n",
    "# =============================================================================\n",
    "\n",
    "# Import necesary libraries\n",
    "import yfinance as yf\n",
    "import numpy as np\n",
    "\n",
    "# Download historical data for required stocks\n",
    "tickers = [\"AMZN\",\"GOOG\",\"MSFT\"]\n",
    "ohlcv_data = {}\n",
    "\n",
    "# looping over tickers and storing OHLCV dataframe in dictionary\n",
    "for ticker in tickers:\n",
    "    temp = yf.download(ticker,period='1y',interval='1d')\n",
    "    temp.dropna(how=\"any\",inplace=True)\n",
    "    ohlcv_data[ticker] = temp\n",
    "\n",
    "def volatility(DF):\n",
    "    \"function to calculate annualized volatility of a trading strategy\"\n",
    "    df = DF.copy()\n",
    "    df[\"daily_ret\"] = DF[\"Adj Close\"].pct_change()\n",
    "    vol = df[\"daily_ret\"].std() * np.sqrt(252)\n",
    "    return vol\n",
    "\n",
    "for ticker in ohlcv_data:\n",
    "    print(\"vol for {} = {}\".format(ticker,volatility(ohlcv_data[ticker])))"
   ]
  },
  {
   "cell_type": "code",
   "execution_count": 7,
   "id": "e24f3481-bea0-465d-b2b6-25095d10f420",
   "metadata": {},
   "outputs": [
    {
     "name": "stderr",
     "output_type": "stream",
     "text": [
      "[*********************100%%**********************]  1 of 1 completed\n",
      "[*********************100%%**********************]  1 of 1 completed\n",
      "[*********************100%%**********************]  1 of 1 completed"
     ]
    },
    {
     "name": "stdout",
     "output_type": "stream",
     "text": [
      "Sharpe of AMZN = -0.012623412165450446\n",
      "Sortino of AMZN = -0.011563634224818773\n",
      "Sharpe of GOOG = 1.5515032467995002\n",
      "Sortino of GOOG = 1.5066470934180258\n",
      "Sharpe of MSFT = 0.1159459490744945\n",
      "Sortino of MSFT = 0.1053486334308412\n"
     ]
    },
    {
     "name": "stderr",
     "output_type": "stream",
     "text": [
      "\n"
     ]
    }
   ],
   "source": [
    "# =============================================================================\n",
    "# Measuring the volatility of a buy and hold strategy\n",
    "# Author : Mayank Rasu (http://rasuquant.com/wp/)\n",
    "\n",
    "# Please report bug/issues in the Q&A section\n",
    "# =============================================================================\n",
    "\n",
    "# Import necesary libraries\n",
    "import yfinance as yf\n",
    "import pandas as pd\n",
    "import numpy as np\n",
    "\n",
    "# Download historical data for required stocks\n",
    "tickers = [\"AMZN\",\"GOOG\",\"MSFT\"]\n",
    "ohlcv_data = {}\n",
    "\n",
    "# looping over tickers and storing OHLCV dataframe in dictionary\n",
    "for ticker in tickers:\n",
    "    temp = yf.download(ticker,period='6mo',interval='1d')\n",
    "    temp.dropna(how=\"any\",inplace=True)\n",
    "    ohlcv_data[ticker] = temp\n",
    "    \n",
    "def CAGR(DF):\n",
    "    \"function to calculate the Cumulative Annual Growth Rate of a trading strategy\"\n",
    "    df = DF.copy()\n",
    "    df[\"return\"] = DF[\"Adj Close\"].pct_change()\n",
    "    df[\"cum_return\"] = (1 + df[\"return\"]).cumprod()\n",
    "    n = len(df)/252\n",
    "    # CAGR = (df[\"cum_return\"][-1])**(1/n) - 1\n",
    "    CAGR = (df[\"cum_return\"].iloc[-1])**(1/n) - 1\n",
    "    return CAGR\n",
    "    \n",
    "def volatility(DF):\n",
    "    \"function to calculate annualized volatility of a trading strategy\"\n",
    "    df = DF.copy()\n",
    "    df[\"return\"] = df[\"Adj Close\"].pct_change()\n",
    "    vol = df[\"return\"].std() * np.sqrt(252)\n",
    "    return vol\n",
    "\n",
    "def sharpe(DF, rf):\n",
    "    \"function to calculate Sharpe Ratio of a trading strategy\"\n",
    "    df = DF.copy()\n",
    "    return (CAGR(df) - rf)/volatility(df)\n",
    "\n",
    "def sortino(DF, rf):\n",
    "    \"function to calculate Sortino Ratio of a trading strategy\"\n",
    "    df = DF.copy()\n",
    "    df[\"return\"] = df[\"Adj Close\"].pct_change()\n",
    "    neg_return = np.where(df[\"return\"]>0,0,df[\"return\"])\n",
    "    #below you will see two ways to calculate the denominator (neg_vol), some people use the\n",
    "    #standard deviation of negative returns while others use a downward deviation approach,\n",
    "    #you can use either. However, downward deviation approach is more widely used\n",
    "    neg_vol = np.sqrt((pd.Series(neg_return[neg_return != 0]) ** 2).mean() * 252)\n",
    "    #neg_vol = pd.Series(neg_return[neg_return != 0]).std() * np.sqrt(252)\n",
    "    return (CAGR(df) - rf)/neg_vol\n",
    "\n",
    "for ticker in ohlcv_data:\n",
    "    print(\"Sharpe of {} = {}\".format(ticker,sharpe(ohlcv_data[ticker],0.03)))\n",
    "    print(\"Sortino of {} = {}\".format(ticker,sortino(ohlcv_data[ticker],0.03)))"
   ]
  },
  {
   "cell_type": "code",
   "execution_count": 8,
   "id": "661bc4f5-20a2-4a04-96b4-8991efb3f3ea",
   "metadata": {},
   "outputs": [
    {
     "name": "stderr",
     "output_type": "stream",
     "text": [
      "[*********************100%%**********************]  1 of 1 completed\n",
      "[*********************100%%**********************]  1 of 1 completed\n",
      "[*********************100%%**********************]  1 of 1 completed"
     ]
    },
    {
     "name": "stdout",
     "output_type": "stream",
     "text": [
      "max drawdown of AMZN = 0.19489997863769584\n",
      "calmar ratio of AMZN = 0.13656002323308788\n",
      "max drawdown of GOOG = 0.16671862226427267\n",
      "calmar ratio of GOOG = 2.755824471213879\n",
      "max drawdown of MSFT = 0.15486782863320273\n",
      "calmar ratio of MSFT = 0.34528298700358123\n"
     ]
    },
    {
     "name": "stderr",
     "output_type": "stream",
     "text": [
      "\n"
     ]
    }
   ],
   "source": [
    "# =============================================================================\n",
    "# Measuring the performance of a buy and hold strategy - Max drawdown & calmar ratio\n",
    "# Author : Mayank Rasu (http://rasuquant.com/wp/)\n",
    "\n",
    "# Please report bug/issues in the Q&A section\n",
    "# =============================================================================\n",
    "\n",
    "# Import necesary libraries\n",
    "import yfinance as yf\n",
    "\n",
    "# Download historical data for required stocks\n",
    "tickers = [\"AMZN\",\"GOOG\",\"MSFT\"]\n",
    "ohlcv_data = {}\n",
    "\n",
    "# looping over tickers and storing OHLCV dataframe in dictionary\n",
    "for ticker in tickers:\n",
    "    temp = yf.download(ticker,period='6mo',interval='1d')\n",
    "    temp.dropna(how=\"any\",inplace=True)\n",
    "    ohlcv_data[ticker] = temp\n",
    "    \n",
    "def CAGR(DF):\n",
    "    \"function to calculate the Cumulative Annual Growth Rate of a trading strategy\"\n",
    "    df = DF.copy()\n",
    "    df[\"return\"] = DF[\"Adj Close\"].pct_change()\n",
    "    df[\"cum_return\"] = (1 + df[\"return\"]).cumprod()\n",
    "    n = len(df)/252\n",
    "    CAGR = (df[\"cum_return\"].iloc[-1])**(1/n) - 1\n",
    "    return CAGR\n",
    "\n",
    "def max_dd(DF):\n",
    "    \"function to calculate max drawdown\"\n",
    "    df = DF.copy()\n",
    "    df[\"return\"] = df[\"Adj Close\"].pct_change()\n",
    "    df[\"cum_return\"] = (1+df[\"return\"]).cumprod()\n",
    "    df[\"cum_roll_max\"] = df[\"cum_return\"].cummax()\n",
    "    df[\"drawdown\"] = df[\"cum_roll_max\"] - df[\"cum_return\"]\n",
    "    return (df[\"drawdown\"]/df[\"cum_roll_max\"]).max()\n",
    "    \n",
    "def calmar(DF):\n",
    "    \"function to calculate calmar ratio\"\n",
    "    df = DF.copy()\n",
    "    return CAGR(df)/max_dd(df)\n",
    "\n",
    "for ticker in ohlcv_data:\n",
    "    print(\"max drawdown of {} = {}\".format(ticker,max_dd(ohlcv_data[ticker])))\n",
    "    print(\"calmar ratio of {} = {}\".format(ticker,calmar(ohlcv_data[ticker])))"
   ]
  },
  {
   "cell_type": "code",
   "execution_count": null,
   "id": "90e66b65-b035-4a62-ad39-f0605c288eb5",
   "metadata": {},
   "outputs": [],
   "source": []
  },
  {
   "cell_type": "code",
   "execution_count": null,
   "id": "4b54a718-655b-44ab-b57d-15c0c96043cd",
   "metadata": {},
   "outputs": [],
   "source": []
  },
  {
   "cell_type": "code",
   "execution_count": null,
   "id": "c1b895f7-adf6-477c-879f-50503991cb67",
   "metadata": {},
   "outputs": [],
   "source": []
  },
  {
   "cell_type": "code",
   "execution_count": null,
   "id": "d975d4ea-e85a-45ea-92c9-b775d68e5526",
   "metadata": {},
   "outputs": [],
   "source": []
  },
  {
   "cell_type": "code",
   "execution_count": 23,
   "id": "2635422e-ee15-4d8a-86f3-bad84ce6eb09",
   "metadata": {},
   "outputs": [
    {
     "data": {
      "text/plain": [
       "-0.06593406593406592"
      ]
     },
     "execution_count": 23,
     "metadata": {},
     "output_type": "execute_result"
    }
   ],
   "source": [
    "85/91-1"
   ]
  },
  {
   "cell_type": "code",
   "execution_count": 9,
   "id": "c5f304a9-e6a9-4f27-983e-91ffa3ee9158",
   "metadata": {},
   "outputs": [
    {
     "data": {
      "text/plain": [
       "0         NaN\n",
       "1    0.011111\n",
       "2   -0.065934\n",
       "3    0.152941\n",
       "dtype: float64"
      ]
     },
     "execution_count": 9,
     "metadata": {},
     "output_type": "execute_result"
    }
   ],
   "source": [
    "s = pd.Series([90, 91, 85, 98])\n",
    "s.pct_change()"
   ]
  },
  {
   "cell_type": "code",
   "execution_count": 14,
   "id": "8749a099-2d8a-40da-9888-d59311c4c51f",
   "metadata": {},
   "outputs": [
    {
     "data": {
      "text/plain": [
       "0    90\n",
       "1    91\n",
       "2    91\n",
       "3    98\n",
       "dtype: int64"
      ]
     },
     "execution_count": 14,
     "metadata": {},
     "output_type": "execute_result"
    }
   ],
   "source": [
    "s.cummax()"
   ]
  },
  {
   "cell_type": "code",
   "execution_count": 13,
   "id": "35b836b6-ec47-4e0b-ba5e-97f8573721f9",
   "metadata": {},
   "outputs": [
    {
     "data": {
      "text/plain": [
       "696150"
      ]
     },
     "execution_count": 13,
     "metadata": {},
     "output_type": "execute_result"
    }
   ],
   "source": [
    "90*91*85"
   ]
  },
  {
   "cell_type": "code",
   "execution_count": 10,
   "id": "edd6228e-473b-45ac-9d7d-61a424132699",
   "metadata": {},
   "outputs": [],
   "source": [
    "# tmp"
   ]
  }
 ],
 "metadata": {
  "kernelspec": {
   "display_name": "Python 3 (ipykernel)",
   "language": "python",
   "name": "python3"
  },
  "language_info": {
   "codemirror_mode": {
    "name": "ipython",
    "version": 3
   },
   "file_extension": ".py",
   "mimetype": "text/x-python",
   "name": "python",
   "nbconvert_exporter": "python",
   "pygments_lexer": "ipython3",
   "version": "3.11.8"
  }
 },
 "nbformat": 4,
 "nbformat_minor": 5
}
